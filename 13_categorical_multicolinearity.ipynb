{
 "cells": [
  {
   "cell_type": "code",
   "execution_count": 1,
   "metadata": {
    "colab": {},
    "colab_type": "code",
    "id": "IeJxmAaEa5K3"
   },
   "outputs": [],
   "source": [
    "import numpy as np\n",
    "import pandas as pd\n",
    "import random\n",
    "from sklearn.linear_model import LinearRegression\n",
    "from sklearn.linear_model import Lasso\n",
    "from sklearn import linear_model\n",
    "random.seed(123)"
   ]
  },
  {
   "cell_type": "code",
   "execution_count": 2,
   "metadata": {},
   "outputs": [],
   "source": [
    "df = pd.read_csv('categ_multi.csv')"
   ]
  },
  {
   "cell_type": "code",
   "execution_count": 3,
   "metadata": {},
   "outputs": [
    {
     "data": {
      "text/plain": [
       "(8, 4)"
      ]
     },
     "execution_count": 3,
     "metadata": {},
     "output_type": "execute_result"
    }
   ],
   "source": [
    "df.shape"
   ]
  },
  {
   "cell_type": "code",
   "execution_count": 4,
   "metadata": {},
   "outputs": [
    {
     "data": {
      "text/html": [
       "<div>\n",
       "<style scoped>\n",
       "    .dataframe tbody tr th:only-of-type {\n",
       "        vertical-align: middle;\n",
       "    }\n",
       "\n",
       "    .dataframe tbody tr th {\n",
       "        vertical-align: top;\n",
       "    }\n",
       "\n",
       "    .dataframe thead th {\n",
       "        text-align: right;\n",
       "    }\n",
       "</style>\n",
       "<table border=\"1\" class=\"dataframe\">\n",
       "  <thead>\n",
       "    <tr style=\"text-align: right;\">\n",
       "      <th></th>\n",
       "      <th>income</th>\n",
       "      <th>age</th>\n",
       "      <th>sex</th>\n",
       "      <th>overtime</th>\n",
       "    </tr>\n",
       "  </thead>\n",
       "  <tbody>\n",
       "    <tr>\n",
       "      <th>0</th>\n",
       "      <td>53</td>\n",
       "      <td>39</td>\n",
       "      <td>F</td>\n",
       "      <td>Y</td>\n",
       "    </tr>\n",
       "    <tr>\n",
       "      <th>1</th>\n",
       "      <td>67</td>\n",
       "      <td>44</td>\n",
       "      <td>M</td>\n",
       "      <td>N</td>\n",
       "    </tr>\n",
       "    <tr>\n",
       "      <th>2</th>\n",
       "      <td>55</td>\n",
       "      <td>32</td>\n",
       "      <td>M</td>\n",
       "      <td>Y</td>\n",
       "    </tr>\n",
       "    <tr>\n",
       "      <th>3</th>\n",
       "      <td>76</td>\n",
       "      <td>42</td>\n",
       "      <td>M</td>\n",
       "      <td>Y</td>\n",
       "    </tr>\n",
       "    <tr>\n",
       "      <th>4</th>\n",
       "      <td>98</td>\n",
       "      <td>23</td>\n",
       "      <td>F</td>\n",
       "      <td>N</td>\n",
       "    </tr>\n",
       "  </tbody>\n",
       "</table>\n",
       "</div>"
      ],
      "text/plain": [
       "   income  age sex overtime\n",
       "0      53   39   F        Y\n",
       "1      67   44   M        N\n",
       "2      55   32   M        Y\n",
       "3      76   42   M        Y\n",
       "4      98   23   F        N"
      ]
     },
     "execution_count": 4,
     "metadata": {},
     "output_type": "execute_result"
    }
   ],
   "source": [
    "df.head()"
   ]
  },
  {
   "cell_type": "code",
   "execution_count": 5,
   "metadata": {},
   "outputs": [],
   "source": [
    "target = df['income']\n",
    "df.drop('income', axis = 1, inplace = True)\n",
    "catVars = ['sex', 'overtime']\n",
    "df_cat = df.drop(['sex', 'overtime'], axis = 1).copy()"
   ]
  },
  {
   "cell_type": "code",
   "execution_count": 6,
   "metadata": {},
   "outputs": [],
   "source": [
    "def encode_cat_var_fit_model(df, df_cat, catVars, target, clf, drop_one_col):\n",
    "    if drop_one_col == 1:\n",
    "        dummy_var = pd.get_dummies(df[catVars], drop_first=True)\n",
    "    else:\n",
    "        dummy_var = pd.get_dummies(df[catVars], drop_first=False)\n",
    "    reg_df = pd.concat([df_cat, dummy_var], axis = 1)    \n",
    "    model_fit = clf.fit(reg_df, target)\n",
    "    coeffs = pd.Series(model_fit.coef_)\n",
    "    coef_dict = dict(zip(reg_df.columns, coeffs))\n",
    "    return coef_dict"
   ]
  },
  {
   "cell_type": "code",
   "execution_count": 7,
   "metadata": {},
   "outputs": [],
   "source": [
    "linear_reg = LinearRegression()"
   ]
  },
  {
   "cell_type": "code",
   "execution_count": 8,
   "metadata": {},
   "outputs": [
    {
     "name": "stdout",
     "output_type": "stream",
     "text": [
      "Coefficients for Linear Regression without dropping columns : \n",
      "\n",
      "age : -0.017 \n",
      "\n",
      "sex_F : -1.58 \n",
      "\n",
      "sex_M : 1.58 \n",
      "\n",
      "overtime_N : 5.461 \n",
      "\n",
      "overtime_Y : -5.461 \n",
      "\n"
     ]
    }
   ],
   "source": [
    "coeff_not_dropping_one_col = encode_cat_var_fit_model(df, df_cat, catVars, target, linear_reg, drop_one_col=0)\n",
    "print('Coefficients for Linear Regression without dropping columns : \\n')\n",
    "for key, value in coeff_not_dropping_one_col.items():\n",
    "    print (key, ':', round(value, 3), '\\n')"
   ]
  },
  {
   "cell_type": "code",
   "execution_count": 9,
   "metadata": {},
   "outputs": [
    {
     "name": "stdout",
     "output_type": "stream",
     "text": [
      "Coefficients for Linear Regression without dropping columns : \n",
      "\n",
      "age : -0.017 \n",
      "\n",
      "sex_M : 3.161 \n",
      "\n",
      "overtime_Y : -10.922 \n",
      "\n"
     ]
    }
   ],
   "source": [
    "coeff_dropping_one_col = encode_cat_var_fit_model(df, df_cat, catVars, target, linear_reg, drop_one_col=1)\n",
    "print('Coefficients for Linear Regression without dropping columns : \\n')\n",
    "for key, value in coeff_dropping_one_col.items():\n",
    "    print (key, ':', round(value, 3), '\\n')"
   ]
  },
  {
   "cell_type": "code",
   "execution_count": 10,
   "metadata": {},
   "outputs": [],
   "source": [
    "lasso_reg = Lasso(alpha=0.1)"
   ]
  },
  {
   "cell_type": "code",
   "execution_count": 11,
   "metadata": {},
   "outputs": [
    {
     "name": "stdout",
     "output_type": "stream",
     "text": [
      "Coefficients for Linear Regression without dropping columns : \n",
      "\n",
      "age : -0.003 \n",
      "\n",
      "sex_F : -2.266 \n",
      "\n",
      "sex_M : 0.0 \n",
      "\n",
      "overtime_N : 10.149 \n",
      "\n",
      "overtime_Y : -0.0 \n",
      "\n"
     ]
    }
   ],
   "source": [
    "lasso_coeff_not_dropping_one_col = encode_cat_var_fit_model(df, df_cat, catVars, target, lasso_reg, drop_one_col=0)\n",
    "print('Coefficients for Linear Regression without dropping columns : \\n')\n",
    "for key, value in lasso_coeff_not_dropping_one_col.items():\n",
    "    print (key, ':', round(value, 3), '\\n')"
   ]
  }
 ],
 "metadata": {
  "colab": {
   "name": "categorical_multicolinearity.ipynb",
   "provenance": [],
   "version": "0.3.2"
  },
  "kernelspec": {
   "display_name": "Python 3",
   "language": "python",
   "name": "python3"
  },
  "language_info": {
   "codemirror_mode": {
    "name": "ipython",
    "version": 3
   },
   "file_extension": ".py",
   "mimetype": "text/x-python",
   "name": "python",
   "nbconvert_exporter": "python",
   "pygments_lexer": "ipython3",
   "version": "3.6.8"
  }
 },
 "nbformat": 4,
 "nbformat_minor": 1
}
